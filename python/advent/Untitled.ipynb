{
 "cells": [
  {
   "cell_type": "code",
   "execution_count": 1,
   "metadata": {},
   "outputs": [],
   "source": [
    "import p23reddit"
   ]
  },
  {
   "cell_type": "code",
   "execution_count": 2,
   "metadata": {},
   "outputs": [
    {
     "name": "stdout",
     "output_type": "stream",
     "text": [
      "Trying forced_count = 1, span = 1024, |Tried|=0\n",
      "Found test_val=185442923, count=84 for forced_check=1\n",
      "Trying forced_count = 1025, span = 1024, |Tried|=1\n",
      "Found test_val=None, count=None for forced_check=1025\n",
      "Trying forced_count = 513, span = 512, |Tried|=2\n",
      "Found test_val=84779627, count=669 for forced_check=513\n",
      "Trying forced_count = 1025, span = 512, |Tried|=3\n",
      "Found test_val=None, count=None for forced_check=1025\n",
      "Trying forced_count = 769, span = 256, |Tried|=3\n",
      "Found test_val=70760745, count=769 for forced_check=769\n",
      "Trying forced_count = 1025, span = 256, |Tried|=4\n",
      "Found test_val=None, count=None for forced_check=1025\n",
      "Trying forced_count = 897, span = 128, |Tried|=4\n",
      "Found test_val=85761543, count=897 for forced_check=897\n",
      "Trying forced_count = 1025, span = 128, |Tried|=5\n",
      "Found test_val=None, count=None for forced_check=1025\n",
      "Trying forced_count = 961, span = 64, |Tried|=5\n",
      "Found test_val=85761542, count=961 for forced_check=961\n",
      "Trying forced_count = 1025, span = 64, |Tried|=6\n",
      "Found test_val=None, count=None for forced_check=1025\n",
      "Trying forced_count = 993, span = 32, |Tried|=6\n",
      "Found test_val=None, count=None for forced_check=993\n",
      "Trying forced_count = 977, span = 16, |Tried|=7\n",
      "Found test_val=None, count=None for forced_check=977\n",
      "Trying forced_count = 969, span = 8, |Tried|=8\n",
      "Found test_val=85761543, count=969 for forced_check=969\n",
      "Trying forced_count = 977, span = 8, |Tried|=9\n",
      "Found test_val=None, count=None for forced_check=977\n",
      "Trying forced_count = 973, span = 4, |Tried|=9\n",
      "Found test_val=None, count=None for forced_check=973\n",
      "Trying forced_count = 971, span = 2, |Tried|=10\n",
      "Found test_val=None, count=None for forced_check=971\n",
      "Trying forced_count = 970, span = 1, |Tried|=11\n",
      "Found test_val=85761543, count=970 for forced_check=970\n",
      "The max count I found was: 970\n",
      "Best location value: 85761543\n"
     ]
    }
   ],
   "source": [
    "p23reddit.reddit_wrap()"
   ]
  },
  {
   "cell_type": "code",
   "execution_count": null,
   "metadata": {},
   "outputs": [],
   "source": []
  }
 ],
 "metadata": {
  "kernelspec": {
   "display_name": "Python 3",
   "language": "python",
   "name": "python3"
  },
  "language_info": {
   "codemirror_mode": {
    "name": "ipython",
    "version": 3
   },
   "file_extension": ".py",
   "mimetype": "text/x-python",
   "name": "python",
   "nbconvert_exporter": "python",
   "pygments_lexer": "ipython3",
   "version": "3.6.5"
  }
 },
 "nbformat": 4,
 "nbformat_minor": 2
}
